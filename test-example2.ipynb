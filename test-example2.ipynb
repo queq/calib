{
 "cells": [
  {
   "cell_type": "code",
   "execution_count": null,
   "metadata": {
    "collapsed": false
   },
   "outputs": [],
   "source": [
    "# -*- coding: utf-8 -*-\n",
    "%matplotlib inline\n",
    "import numpy as np\n",
    "import cv2\n",
    "import glob\n",
    "import re\n",
    "from matplotlib import pyplot as plt\n",
    "import time as t\n",
    "print \"OpenCV version: {}\".format(cv2.__version__)\n",
    "# https://wiki.python.org/moin/PythonSpeed/PerformanceTips"
   ]
  },
  {
   "cell_type": "code",
   "execution_count": null,
   "metadata": {
    "collapsed": true
   },
   "outputs": [],
   "source": [
    "img_w = 640\n",
    "img_h = 480\n",
    "RESOLUTION = (img_w, img_h)\n",
    "grid_w = 8\n",
    "grid_h = 6\n",
    "GRID_SIZE = (grid_w, grid_h)\n",
    "sq_size = 3.3 # cm\n",
    "crit = (cv2.TERM_CRITERIA_EPS + cv2.TERM_CRITERIA_MAX_ITER, 30, 0.001)\n",
    "\n",
    "objp = np.zeros((grid_w*grid_h,3), np.float32)\n",
    "objp[:,:2] = np.mgrid[0:grid_w,0:grid_h].T.reshape(-1,2) * sq_size\n",
    "\n",
    "fig_size = plt.rcParams[\"figure.figsize\"]\n",
    "fig_size[0] = 14\n",
    "fig_size[1] = 9\n",
    "plt.rcParams[\"figure.figsize\"] = fig_size"
   ]
  },
  {
   "cell_type": "code",
   "execution_count": null,
   "metadata": {
    "collapsed": false,
    "scrolled": true
   },
   "outputs": [],
   "source": [
    "images = glob.glob('stereo-example2/img-calib/*.jpg')\n",
    "goodImages = []\n",
    "\n",
    "objpoints = []\n",
    "imgpoints1 = []\n",
    "imgpoints2 = []\n",
    "\n",
    "for fname in images:\n",
    "    imgR = cv2.imread(fname)\n",
    "    imgL = imgR[:, 0:img_w]\n",
    "    imgR = imgR[:, img_w:]\n",
    "    \n",
    "    grayL = cv2.cvtColor(imgL, cv2.COLOR_BGR2GRAY)\n",
    "    grayR = cv2.cvtColor(imgR, cv2.COLOR_BGR2GRAY)\n",
    "    retL, cornersL = cv2.findChessboardCorners(grayL, GRID_SIZE)\n",
    "    retR, cornersR = cv2.findChessboardCorners(grayR, GRID_SIZE)\n",
    "        \n",
    "    if retL is True and retR is True:\n",
    "        objpoints.append(objp)\n",
    "        cv2.cornerSubPix(grayL, cornersL, (11,11), (-1,-1), crit)\n",
    "        cv2.cornerSubPix(grayR, cornersR, (11,11), (-1,-1), crit)\n",
    "        imgpoints1.append(cornersL)\n",
    "        imgpoints2.append(cornersR)\n",
    "        cv2.drawChessboardCorners(imgL, GRID_SIZE, cornersL, retL)\n",
    "        cv2.drawChessboardCorners(imgR, GRID_SIZE, cornersR, retR)\n",
    "        goodImages.append(fname)\n",
    "        \n",
    "retL, mtxL, distL, rvecsL, tvecsL = cv2.calibrateCamera(objpoints, imgpoints1, RESOLUTION)\n",
    "retR, mtxR, distR, rvecsR, tvecsR = cv2.calibrateCamera(objpoints, imgpoints2, RESOLUTION)\n",
    "\n",
    "ret, _, _, _, _, R, T, E, F  = cv2.stereoCalibrate(objpoints, imgpoints1, imgpoints2, RESOLUTION)\n",
    "R1, R2, P1, P2, Q, ROI1, ROI2 = cv2.stereoRectify(mtxL, distL, mtxR, distR, RESOLUTION, R, T, flags=cv2.CALIB_ZERO_DISPARITY)\n",
    "\n",
    "x1L, y1L, x2L, y2L = ROI1\n",
    "x1R, y1R, x2R, y2R = ROI2\n",
    "\n",
    "map1L, map2L = cv2.initUndistortRectifyMap(mtxL, distL, R1, mtxL, RESOLUTION, cv2.CV_32FC1)\n",
    "map1R, map2R = cv2.initUndistortRectifyMap(mtxR, distR, R2, mtxR, RESOLUTION, cv2.CV_32FC1)\n",
    "\n",
    "# for fname in goodImages:\n",
    "    # name = re.findall(r'[\\w\\d\\-]+\\.\\w+',fname)[0]\n",
    "    # time = t.clock()\n",
    "    # imgR = cv2.imread(fname)\n",
    "    # imgL = imgR[:, 0:img_w]\n",
    "    # imgR = imgR[:, img_w:]    \n",
    "    # imgL = cv2.remap(imgL, map1L, map2L, cv2.INTER_CUBIC)\n",
    "    # imgR = cv2.remap(imgR, map1R, map2R, cv2.INTER_CUBIC)\n",
    "    # imgL = cv2.cvtColor(imgL, cv2.COLOR_BGR2GRAY)\n",
    "    # imgR = cv2.cvtColor(imgR, cv2.COLOR_BGR2GRAY)\n",
    "    # cv2.imwrite('stereo-example2/img-rectified/rectL'+name, dstL)\n",
    "    # cv2.imwrite('stereo-example2/img-rectified/rectR'+name, dstR)\n",
    "    # plt.subplot(1,2,1), plt.imshow(imgL, 'gray')\n",
    "    # plt.subplot(1,2,2), plt.imshow(imgR, 'gray')\n",
    "    # plt.show()\n",
    "    # print t.clock() - time"
   ]
  },
  {
   "cell_type": "code",
   "execution_count": null,
   "metadata": {
    "collapsed": false
   },
   "outputs": [],
   "source": [
    "from IPython.html import widgets\n",
    "from IPython.display import display\n",
    "\n",
    "path = 'stereo-example2/img-stereo/'\n",
    "M = img_w / 8\n",
    "# P1 = 8*number_of_image_channels*SADWindowSize*SADWindowSize\n",
    "# P2 = 32*number_of_image_channels*SADWindowSize*SADWindowSize\n",
    "\n",
    "def stereoSGBM(mindisp=0, sadw=1, disp12=0, pfiltc=0, unqrat=5, spckw=0, spckr=1):\n",
    "    imgR = cv2.imread(path+'scene00651.jpg')\n",
    "    imgL = imgR[:, 0:img_w]\n",
    "    imgR = imgR[:, img_w:]\n",
    "    imgL = cv2.remap(imgL, map1L, map2L, cv2.INTER_LINEAR)\n",
    "    imgR = cv2.remap(imgR, map1R, map2R, cv2.INTER_LINEAR)\n",
    "    grayL = cv2.cvtColor(imgL,cv2.COLOR_BGR2GRAY)\n",
    "    grayR = cv2.cvtColor(imgR,cv2.COLOR_BGR2GRAY)\n",
    "    numdisp = M - mindisp\n",
    "    stereo = cv2.StereoSGBM(mindisp, M-mindisp, sadw, 8*sadw*sadw, 32*sadw*sadw, disp12, pfiltc, unqrat, spckw, spckr)\n",
    "    disparity = stereo.compute(imgL,imgR)\n",
    "    plt.imshow(disparity)\n",
    "    plt.show()\n",
    "    # plt.subplot(2,2,1),plt.imshow(grayL, 'gray')\n",
    "    # plt.subplot(2,2,2),plt.imshow(grayR, 'gray')\n",
    "    # plt.subplot(2,2,3),plt.imshow(dstL, 'gray')\n",
    "    # plt.subplot(2,2,4),plt.imshow(dstR, 'gray')\n",
    "    # plt.show()\n",
    "    \n",
    "mindisp_slider = widgets.IntSliderWidget(min=0, max=M-16, step=16, value=16, description='minDisparity')\n",
    "sadw_slider = widgets.IntSliderWidget(min=1, max=21, step=2, value=1, description='SADWindowSize')\n",
    "disp12_slider = widgets.IntSliderWidget(min=-1, max=5, step=1, value=1, description='disp12MaxDiff')\n",
    "pfiltc_slider = widgets.IntSliderWidget(min=0, max=63, step=1, value=54, description='preFilterCap')\n",
    "unqrat_slider = widgets.IntSliderWidget(min=5, max=15, step=1, value=145, description='uniquenessRatio')\n",
    "spckw_slider = widgets.IntSliderWidget(min=50, max=200, step=1, value=160, description='speckleWindowSize')\n",
    "spckr_slider = widgets.IntSliderWidget(min=1, max=2, step=1, value=2, description='speckleRange')\n",
    "\n",
    "w = widgets.interactive(stereoSGBM, mindisp=mindisp_slider, sadw=sadw_slider, disp12=disp12_slider,\n",
    "                        pfiltc=pfiltc_slider, unqrat=unqrat_slider, spckw=spckw_slider, spckr=spckr_slider)\n",
    "display(w)"
   ]
  },
  {
   "cell_type": "code",
   "execution_count": null,
   "metadata": {
    "collapsed": false
   },
   "outputs": [],
   "source": [
    "nms = dir(cv2) # list of everything in the cv2 module\n",
    "[m for m in nms if 'PRESET' in m]"
   ]
  },
  {
   "cell_type": "code",
   "execution_count": null,
   "metadata": {
    "collapsed": false
   },
   "outputs": [],
   "source": [
    "help(widgets.interactive)"
   ]
  },
  {
   "cell_type": "code",
   "execution_count": null,
   "metadata": {
    "collapsed": true
   },
   "outputs": [],
   "source": []
  }
 ],
 "metadata": {
  "kernelspec": {
   "display_name": "Python 2",
   "language": "python",
   "name": "python2"
  },
  "language_info": {
   "codemirror_mode": {
    "name": "ipython",
    "version": 2
   },
   "file_extension": ".py",
   "mimetype": "text/x-python",
   "name": "python",
   "nbconvert_exporter": "python",
   "pygments_lexer": "ipython2",
   "version": "2.7.10"
  }
 },
 "nbformat": 4,
 "nbformat_minor": 0
}
