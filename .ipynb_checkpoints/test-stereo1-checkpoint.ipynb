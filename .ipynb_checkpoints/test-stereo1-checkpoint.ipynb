{
 "cells": [
  {
   "cell_type": "markdown",
   "metadata": {},
   "source": [
    "# Organizar de tal modo que no toque recalcular matrices!\n",
    "\n",
    "### Links\n",
    "\n",
    "* Speeding up Python: https://wiki.python.org/moin/PythonSpeed/PerformanceTips\n",
    "* Check if a file exists: http://stackoverflow.com/questions/82831/check-whether-a-file-exists-using-python\n",
    "* Markdown cheatsheet: https://github.com/adam-p/markdown-here/wiki/Markdown-Cheatsheet\n",
    "* OpenCV Python Tutorials: https://opencv-python-tutroals.readthedocs.org/en/latest/\n",
    "* Magic functions https://ipython.org/ipython-doc/dev/interactive/magics.html\n",
    "\n",
    "### Utilities\n",
    "\n",
    "```python\n",
    "[n for n in dir(widgets) if not n.endswith('Widget') and n[0] == n[0].upper() and not n[0] == '_']\n",
    "\n",
    "nms = dir(cv2) # list of everything in the cv2 module\n",
    "[m for m in nms if 'PROP' in m]\n",
    "\n",
    "help(cv2.adaptiveThreshold)\n",
    "```"
   ]
  },
  {
   "cell_type": "code",
   "execution_count": null,
   "metadata": {
    "collapsed": false
   },
   "outputs": [],
   "source": [
    "# -*- coding: utf-8 -*-\n",
    "%matplotlib inline\n",
    "import glob\n",
    "import os\n",
    "import re\n",
    "import time as t\n",
    "\n",
    "import cv2\n",
    "import cv2.cv as cv\n",
    "import IPython\n",
    "from IPython.display import display\n",
    "import ipywidgets as widgets\n",
    "from matplotlib import pyplot as plt\n",
    "import numpy as np\n",
    "\n",
    "print \"OpenCV version:   {}\".format(cv2.__version__)\n",
    "print \"IPython version:  {}\".format(IPython.__version__)"
   ]
  },
  {
   "cell_type": "code",
   "execution_count": null,
   "metadata": {
    "collapsed": true
   },
   "outputs": [],
   "source": [
    "def change_figsize(w, h):\n",
    "    fig_size = plt.rcParams[\"figure.figsize\"]\n",
    "    fig_size = (w, h)\n",
    "    plt.rcParams[\"figure.figsize\"] = fig_size\n",
    "    \n",
    "def nothing(x):\n",
    "    pass"
   ]
  },
  {
   "cell_type": "code",
   "execution_count": null,
   "metadata": {
    "collapsed": false
   },
   "outputs": [],
   "source": [
    "i = cv2.imread('stereo1/sample.png')\n",
    "RESOLUTION = (i.shape[1], i.shape[0])\n",
    "grid_w = 7\n",
    "grid_h = 7\n",
    "GRID_SIZE = (grid_w, grid_h)\n",
    "sq_size = 3 # cm\n",
    "crit = (cv2.TERM_CRITERIA_EPS + cv2.TERM_CRITERIA_MAX_ITER, 30, 0.001)\n",
    "\n",
    "objp = np.zeros((grid_w*grid_h,3), np.float32)\n",
    "objp[:,:2] = np.mgrid[0:grid_w,0:grid_h].T.reshape(-1,2) * sq_size\n",
    "\n",
    "change_figsize(18, 14)"
   ]
  },
  {
   "cell_type": "code",
   "execution_count": null,
   "metadata": {
    "collapsed": false,
    "scrolled": true
   },
   "outputs": [],
   "source": [
    "imagesL = sorted(glob.glob('stereo1/img/L*.png'))\n",
    "imagesR = sorted(glob.glob('stereo1/img/R*.png'))\n",
    "\n",
    "objpoints = []\n",
    "imgpoints1 = []\n",
    "imgpoints2 = []\n",
    "\n",
    "for fnameL, fnameR in zip(imagesL, imagesR):\n",
    "    imgL = cv2.imread(fnameL)\n",
    "    imgR = cv2.imread(fnameR)\n",
    "    grayL = cv2.cvtColor(imgL, cv2.COLOR_BGR2GRAY)\n",
    "    grayR = cv2.cvtColor(imgR, cv2.COLOR_BGR2GRAY)\n",
    "    retL, cornersL = cv2.findChessboardCorners(grayL, GRID_SIZE)\n",
    "    retR, cornersR = cv2.findChessboardCorners(grayR, GRID_SIZE)\n",
    "        \n",
    "    if retL is True and retR is True:\n",
    "        objpoints.append(objp)\n",
    "        cv2.cornerSubPix(grayL, cornersL, (11,11), (-1,-1), crit)\n",
    "        cv2.cornerSubPix(grayR, cornersR, (11,11), (-1,-1), crit)\n",
    "        imgpoints1.append(cornersL)\n",
    "        imgpoints2.append(cornersR)\n",
    "        cv2.drawChessboardCorners(imgL, GRID_SIZE, cornersL, retL)\n",
    "        cv2.drawChessboardCorners(imgR, GRID_SIZE, cornersR, retR)\n",
    "    print retL, fnameL\n",
    "    print retR, fnameR\n",
    "    imgL = cv2.cvtColor(imgL, cv2.COLOR_BGR2RGB)\n",
    "    imgR = cv2.cvtColor(imgR, cv2.COLOR_BGR2RGB)\n",
    "    plt.imshow(np.concatenate((imgL,imgR), axis=1))\n",
    "    plt.show()"
   ]
  },
  {
   "cell_type": "code",
   "execution_count": null,
   "metadata": {
    "collapsed": false
   },
   "outputs": [],
   "source": [
    "retL, mtxL, distL, rvecsL, tvecsL = cv2.calibrateCamera(objpoints, imgpoints1, RESOLUTION)\n",
    "print mtxL\n",
    "print distL\n",
    "\n",
    "retR, mtxR, distR, rvecsR, tvecsR = cv2.calibrateCamera(objpoints, imgpoints2, RESOLUTION)\n",
    "print mtxR\n",
    "print distR"
   ]
  },
  {
   "cell_type": "code",
   "execution_count": null,
   "metadata": {
    "collapsed": false,
    "scrolled": true
   },
   "outputs": [],
   "source": [
    "ret, _, _, _, _, R, T, E, F  = cv2.stereoCalibrate(objpoints, imgpoints1, imgpoints2, RESOLUTION)\n",
    "R1, R2, P1, P2, Q, _, _ = cv2.stereoRectify(mtxL, distL, mtxR, distR, RESOLUTION, R, T, flags=cv2.CALIB_ZERO_DISPARITY)\n",
    "\n",
    "map1L, map2L = cv2.initUndistortRectifyMap(mtxL, distL, R1, mtxL, RESOLUTION, cv2.CV_16SC2)\n",
    "map1R, map2R = cv2.initUndistortRectifyMap(mtxR, distR, R2, mtxR, RESOLUTION, cv2.CV_16SC2)\n",
    "\n",
    "if not os.path.isfile(\"data/maps.npz\"):\n",
    "    np.savez('data/maps.npz', map1L, map2L, map1R, map2R)"
   ]
  },
  {
   "cell_type": "code",
   "execution_count": null,
   "metadata": {
    "collapsed": true
   },
   "outputs": [],
   "source": [
    "imagesL = sorted(glob.glob('stereo1/scene/L*.png'))\n",
    "imagesR = sorted(glob.glob('stereo1/scene/R*.png'))\n",
    "\n",
    "for fnameL, fnameR in zip(imagesL, imagesR):\n",
    "    nameL = re.findall(r'[\\w\\d\\-]+\\.\\w+',fnameL)[0]\n",
    "    nameR = re.findall(r'[\\w\\d\\-]+\\.\\w+',fnameR)[0]\n",
    "    imgL = cv2.imread(fnameL)\n",
    "    imgR = cv2.imread(fnameR)    \n",
    "    imgL = cv2.remap(imgL, map1L, map2L, cv2.INTER_CUBIC)\n",
    "    imgR = cv2.remap(imgR, map1R, map2R, cv2.INTER_CUBIC)\n",
    "    imgL = cv2.cvtColor(imgL, cv2.COLOR_BGR2GRAY)\n",
    "    imgR = cv2.cvtColor(imgR, cv2.COLOR_BGR2GRAY)\n",
    "    cv2.imwrite('stereo1/rect/'+nameL, imgL)\n",
    "    cv2.imwrite('stereo1/rect/'+nameR, imgR)\n",
    "    plt.subplot(1,2,1), plt.imshow(imgL, 'gray')\n",
    "    plt.subplot(1,2,2), plt.imshow(imgR, 'gray')\n",
    "    plt.show()"
   ]
  },
  {
   "cell_type": "code",
   "execution_count": null,
   "metadata": {
    "collapsed": false
   },
   "outputs": [],
   "source": [
    "with np.load('data/maps.npz') as X:\n",
    "    map1L, map2L, map1R, map2R = [X[i] for i in ('arr_0', 'arr_1', 'arr_2', 'arr_3')]"
   ]
  },
  {
   "cell_type": "code",
   "execution_count": null,
   "metadata": {
    "collapsed": false
   },
   "outputs": [],
   "source": [
    "M = 64\n",
    "w = 3\n",
    "\n",
    "def stereoSGBM(mindisp=16, sadw=5, p1=42, p2=256, disp12=0, pfiltc=10, unqrat=15, spckw=200, spckr=1):\n",
    "    imgL = cv2.imread('stereo1/scene/L0296.png')\n",
    "    imgR = cv2.imread('stereo1/scene/R0296.png')\n",
    "    imgL = cv2.remap(imgL, map1L, map2L, cv2.INTER_CUBIC)\n",
    "    imgR = cv2.remap(imgR, map1R, map2R, cv2.INTER_CUBIC)\n",
    "    \n",
    "    numdisp = M - mindisp\n",
    "    w = sadw\n",
    "    stereo = cv2.StereoSGBM(mindisp, numdisp, sadw, p1, p2, disp12, pfiltc, unqrat, spckw, spckr)\n",
    "        \n",
    "    grayL = cv2.cvtColor(imgL,cv2.COLOR_BGR2GRAY)\n",
    "    grayR = cv2.cvtColor(imgR,cv2.COLOR_BGR2GRAY)\n",
    "    # grayL = cv2.Laplacian(grayL, cv2.CV_16S, ksize=1, scale=1, delta=0)\n",
    "    # grayR = cv2.Laplacian(grayR, cv2.CV_16S, ksize=1, scale=1, delta=0)\n",
    "    # grayL = cv2.convertScaleAbs(grayL, alpha=0.8, beta=100)\n",
    "    # grayR = cv2.convertScaleAbs(grayR, alpha=0.8, beta=100)\n",
    "    grayL = cv2.pyrDown(grayL)\n",
    "    grayR = cv2.pyrDown(grayR)\n",
    "\n",
    "    disparity = stereo.compute(grayL,grayR)\n",
    "    change_figsize(9, 7)\n",
    "    plt.imshow(disparity)\n",
    "    plt.show()\n",
    "    change_figsize(18, 14)\n",
    "    plt.subplot(1,2,1),plt.imshow(grayL, 'gray')\n",
    "    plt.subplot(1,2,2),plt.imshow(grayR, 'gray')\n",
    "    # plt.subplot(2,2,3),plt.imshow(dstL, 'gray')\n",
    "    # plt.subplot(2,2,4),plt.imshow(dstR, 'gray')\n",
    "    # plt.show()\n",
    "    \n",
    "mindisp_slider = widgets.IntSlider(min=0, max=M-16, step=16, value=16, description='minDisparity')\n",
    "sadw_slider = widgets.IntSlider(min=1, max=21, step=2, value=5, description='SADWindowSize')\n",
    "P1_slider = widgets.IntSlider(min=0, max=8*w*w, step=1, value=42, description='P1')\n",
    "P2_slider = widgets.IntSlider(min=0, max=32*w*w, step=1, value=256, description='P2')\n",
    "disp12_slider = widgets.IntSlider(min=-1, max=5, step=1, value=0, description='disp12MaxDiff')\n",
    "pfiltc_slider = widgets.IntSlider(min=0, max=63, step=1, value=10, description='preFilterCap')\n",
    "unqrat_slider = widgets.IntSlider(min=5, max=15, step=1, value=15, description='uniquenessRatio')\n",
    "spckw_slider = widgets.IntSlider(min=50, max=200, step=1, value=200, description='speckleWindowSize')\n",
    "spckr_slider = widgets.IntSlider(min=1, max=2, step=1, value=1, description='speckleRange')\n",
    "\n",
    "w = widgets.interactive(stereoSGBM, mindisp=mindisp_slider, sadw=sadw_slider, p1=P1_slider, p2=P2_slider, disp12=disp12_slider,\n",
    "                        pfiltc=pfiltc_slider, unqrat=unqrat_slider, spckw=spckw_slider, spckr=spckr_slider)\n",
    "display(w)"
   ]
  },
  {
   "cell_type": "code",
   "execution_count": null,
   "metadata": {
    "collapsed": false
   },
   "outputs": [],
   "source": [
    "cap = cv2.VideoCapture(0)\n",
    "cap2 = cv2.VideoCapture(1)\n",
    "\n",
    "# cap.set(cv.CV_CAP_PROP_FPS, 2)\n",
    "# cap2.set(cv.CV_CAP_PROP_FPS, 2)\n",
    "M = 96\n",
    "m = 16\n",
    "n = M - m\n",
    "\n",
    "with np.load('data/maps.npz') as X:\n",
    "    map1L, map2L, map1R, map2R = [X[i] for i in ('arr_0', 'arr_1', 'arr_2', 'arr_3')]\n",
    "\n",
    "while(True):\n",
    "    # Capture frame-by-frame\n",
    "    ret, frame = cap.read()\n",
    "    ret2, frame2 = cap2.read()\n",
    "\n",
    "    imgL = cv2.remap(frame, map1L, map2L, cv2.INTER_LINEAR)\n",
    "    imgR = cv2.remap(frame2, map1R, map2R, cv2.INTER_LINEAR)\n",
    "\n",
    "\n",
    "    stereo = cv2.StereoSGBM(m, n, 1, 8, 32, 3, 41, 14, 200, 1)\n",
    "\n",
    "    disparity = stereo.compute(imgL,imgR)\n",
    "    plt.imshow(disparity)\n",
    "    plt.show()"
   ]
  },
  {
   "cell_type": "code",
   "execution_count": null,
   "metadata": {
    "collapsed": false
   },
   "outputs": [],
   "source": [
    "cap = cv2.VideoCapture(1)\n",
    "cap2 = cv2.VideoCapture(0)\n",
    "\n",
    "with np.load('data/maps.npz') as X:\n",
    "    map1L, map2L, map1R, map2R = [X[i] for i in ('arr_0', 'arr_1', 'arr_2', 'arr_3')]\n",
    "\n",
    "cv2.namedWindow('Options', cv2.WINDOW_NORMAL)\n",
    "cv2.namedWindow('Depth Map')\n",
    "cv2.namedWindow('Image')\n",
    "cv2.createTrackbar('minDisparity', 'Options', 1, M-1, nothing)\n",
    "cv2.createTrackbar('SADWindowSize', 'Options', 0, 5, nothing)\n",
    "cv2.createTrackbar('P1', 'Options', 6, 450, nothing)\n",
    "cv2.createTrackbar('P2', 'Options', 0, 2000, nothing)\n",
    "cv2.createTrackbar('disp12MaxDiff', 'Options', 0, 3, nothing)\n",
    "cv2.createTrackbar('preFilterCap', 'Options', 22, 63, nothing)\n",
    "cv2.createTrackbar('uniquenessRatio', 'Options', 15, 15, nothing)\n",
    "cv2.createTrackbar('speckleWindowSize', 'Options', 200, 200, nothing)\n",
    "cv2.createTrackbar('speckleRange', 'Options', 1, 2, nothing)\n",
    "switch = '0 : OFF \\n1 : ON'\n",
    "cv2.createTrackbar(switch, 'Options', 0, 1, nothing)\n",
    "\n",
    "while True:\n",
    "    ret, frame = cap.read()\n",
    "    ret2, frame2 = cap2.read()\n",
    "    imgL = cv2.remap(frame, map1L, map2L, cv2.INTER_LINEAR)\n",
    "    imgR = cv2.remap(frame2, map1R, map2R, cv2.INTER_LINEAR)\n",
    "    imgL = cv2.pyrDown(imgL)\n",
    "    imgR = cv2.pyrDown(imgR)\n",
    "    \n",
    "    if args[9] == 0:\n",
    "        args = [cv2.getTrackbarPos('minDisparity','Options'),\n",
    "                cv2.getTrackbarPos('SADWindowSize','Options'),\n",
    "                cv2.getTrackbarPos('P1','Options'),\n",
    "                cv2.getTrackbarPos('P2','Options'),\n",
    "                cv2.getTrackbarPos('disp12MaxDiff','Options'), \n",
    "                cv2.getTrackbarPos('preFilterCap','Options'),\n",
    "                cv2.getTrackbarPos('uniquenessRatio','Options'),\n",
    "                cv2.getTrackbarPos('speckleWindowSize','Options'),\n",
    "                cv2.getTrackbarPos('speckleRange','Options'),\n",
    "                cv2.getTrackbarPos(switch,'Options')\n",
    "               ]\n",
    "        stereo = cv2.StereoSGBM(16*args[0],\n",
    "                                16* (M - args[0]),\n",
    "                                2*args[1] + 1,\n",
    "                                args[2],\n",
    "                                args[3],\n",
    "                                args[4],\n",
    "                                args[5],\n",
    "                                args[6],\n",
    "                                args[7],\n",
    "                                args[8])\n",
    "        \n",
    "    else:\n",
    "        disparity = stereo.compute(imgL,imgR)\n",
    "        dmap = disparity.astype('uint8')\n",
    "        cv2.imshow('Depth Map', cv2.applyColorMap(-dmap, cv2.COLORMAP_JET))\n",
    "        \n",
    "    if cv2.waitKey(1) & 0xFF == ord('q'):\n",
    "        break\n",
    "        \n",
    "cv2.destroyAllWindows()"
   ]
  },
  {
   "cell_type": "code",
   "execution_count": null,
   "metadata": {
    "collapsed": false
   },
   "outputs": [],
   "source": [
    "cap = cv2.VideoCapture(0)\n",
    "cap2 = cv2.VideoCapture(1)\n",
    "ret, imgL = cap.read()\n",
    "ret2, imgR = cap2.read()\n",
    "plt.subplot(1,2,1),plt.imshow(imgL)\n",
    "plt.subplot(1,2,2),plt.imshow(imgR)\n",
    "plt.show()"
   ]
  },
  {
   "cell_type": "code",
   "execution_count": null,
   "metadata": {
    "collapsed": false
   },
   "outputs": [],
   "source": [
    "cap = cv2.VideoCapture(1)\n",
    "cap2 = cv2.VideoCapture(0)\n",
    "\n",
    "\n",
    "M = 96\n",
    "m = 32\n",
    "n = M - m\n",
    "w = 5\n",
    "p1 = 8*w*w\n",
    "p2 = 32*w*w\n",
    "d12 = 0\n",
    "pf = 10\n",
    "ur = 15\n",
    "sw = 200\n",
    "sr = 1\n",
    "\n",
    "\n",
    "with np.load('data/maps.npz') as X:\n",
    "    map1L, map2L, map1R, map2R = [X[i] for i in ('arr_0', 'arr_1', 'arr_2', 'arr_3')]\n",
    "\n",
    "while True:\n",
    "    ret, frame = cap.read()\n",
    "    ret2, frame2 = cap2.read()\n",
    "\n",
    "    imgL = cv2.remap(frame, map1L, map2L, cv2.INTER_LINEAR)\n",
    "    imgR = cv2.remap(frame2, map1R, map2R, cv2.INTER_LINEAR)\n",
    "\n",
    "    stereo = cv2.StereoSGBM(m, n, w, p1, p2, d12, pf, ur, sw, sr)\n",
    "    imgL = cv2.pyrDown(imgL)\n",
    "    imgR = cv2.pyrDown(imgR)\n",
    "\n",
    "    disparity = stereo.compute(imgL,imgR)\n",
    "    plt.imshow(disparity)\n",
    "    plt.show()\n",
    "    dmap = disparity.astype('uint8') / 16.0\n",
    "    dmap = cv2.applyColorMap(-dmap, cv2.COLORMAP_JET)\n",
    "    cv2.imshow('Depth map', dmap)\n",
    "    cv2.imshow('Image', imgL)\n",
    "\n",
    "\n",
    "# When everything done, release the capture\n",
    "cap.release()\n",
    "cv2.destroyAllWindows()"
   ]
  },
  {
   "cell_type": "code",
   "execution_count": null,
   "metadata": {
    "collapsed": false
   },
   "outputs": [],
   "source": [
    "help(cv2.VideoCapture)"
   ]
  },
  {
   "cell_type": "code",
   "execution_count": null,
   "metadata": {
    "collapsed": false
   },
   "outputs": [],
   "source": [
    "cap = cv2.VideoCapture(0)\n",
    "cap2 = cv2.VideoCapture(1)\n",
    "\n",
    "M = 64\n",
    "w = 3\n",
    "\n",
    "with np.load('data/maps.npz') as X:\n",
    "    map1L, map2L, map1R, map2R = [X[i] for i in ('arr_0', 'arr_1', 'arr_2', 'arr_3')]\n",
    "\n",
    "def stereoSGBM(mindisp=16, sadw=5, p1=42, p2=256, disp12=0, pfiltc=10, unqrat=15, spckw=200, spckr=1):\n",
    "    _, imgL = cap.read()\n",
    "    _, imgR = cap2.read()\n",
    "    imgL = cv2.imread('stereo1/scene/L0296.png')\n",
    "    imgR = cv2.imread('stereo1/scene/R0296.png')\n",
    "    imgL = cv2.remap(imgL, map1L, map2L, cv2.INTER_CUBIC)\n",
    "    imgR = cv2.remap(imgR, map1R, map2R, cv2.INTER_CUBIC)\n",
    "    imgL = cv2.pyrDown(imgL)\n",
    "    imgR = cv2.pyrDown(imgR)\n",
    "    \n",
    "    numdisp = M - mindisp\n",
    "    w = sadw\n",
    "    stereo = cv2.StereoSGBM(mindisp, numdisp, sadw, p1, p2, disp12, pfiltc, unqrat, spckw, spckr)\n",
    "    \n",
    "    disparity = stereo.compute(imgL,imgR).astype(np.float32) / 16.0\n",
    "    change_figsize(9, 7)\n",
    "    plt.imshow((disparity-mindisp)/numdisp, 'gray')\n",
    "    plt.show()\n",
    "    change_figsize(18, 14)\n",
    "    plt.imshow(np.concatenate((imgL, imgR), axis=1))\n",
    "    plt.show()\n",
    "    \n",
    "mindisp_slider = widgets.IntSlider(min=0, max=M-16, step=16, value=16, description='minDisparity')\n",
    "sadw_slider = widgets.IntSlider(min=1, max=21, step=2, value=5, description='SADWindowSize')\n",
    "P1_slider = widgets.IntSlider(min=0, max=8*w*w, step=1, value=42, description='P1')\n",
    "P2_slider = widgets.IntSlider(min=0, max=32*w*w, step=1, value=256, description='P2')\n",
    "disp12_slider = widgets.IntSlider(min=-1, max=5, step=1, value=0, description='disp12MaxDiff')\n",
    "pfiltc_slider = widgets.IntSlider(min=0, max=63, step=1, value=10, description='preFilterCap')\n",
    "unqrat_slider = widgets.IntSlider(min=5, max=15, step=1, value=15, description='uniquenessRatio')\n",
    "spckw_slider = widgets.IntSlider(min=50, max=200, step=1, value=200, description='speckleWindowSize')\n",
    "spckr_slider = widgets.IntSlider(min=1, max=2, step=1, value=1, description='speckleRange')\n",
    "\n",
    "w = widgets.interactive(stereoSGBM, mindisp=mindisp_slider, sadw=sadw_slider, p1=P1_slider, p2=P2_slider,\n",
    "                        disp12=disp12_slider, pfiltc=pfiltc_slider, unqrat=unqrat_slider, spckw=spckw_slider,\n",
    "                        spckr=spckr_slider)\n",
    "display(w)"
   ]
  },
  {
   "cell_type": "code",
   "execution_count": null,
   "metadata": {
    "collapsed": true
   },
   "outputs": [],
   "source": [
    "cap.release()"
   ]
  },
  {
   "cell_type": "code",
   "execution_count": null,
   "metadata": {
    "collapsed": true
   },
   "outputs": [],
   "source": []
  }
 ],
 "metadata": {
  "kernelspec": {
   "display_name": "Python 2",
   "language": "python",
   "name": "python2"
  },
  "language_info": {
   "codemirror_mode": {
    "name": "ipython",
    "version": 2
   },
   "file_extension": ".py",
   "mimetype": "text/x-python",
   "name": "python",
   "nbconvert_exporter": "python",
   "pygments_lexer": "ipython2",
   "version": "2.7.10"
  }
 },
 "nbformat": 4,
 "nbformat_minor": 0
}
